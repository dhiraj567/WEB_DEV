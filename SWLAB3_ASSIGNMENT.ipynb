{
  "nbformat": 4,
  "nbformat_minor": 0,
  "metadata": {
    "colab": {
      "provenance": [],
      "authorship_tag": "ABX9TyO104LPm/6gjMAJt8STrC8I",
      "include_colab_link": true
    },
    "kernelspec": {
      "name": "python3",
      "display_name": "Python 3"
    },
    "language_info": {
      "name": "python"
    }
  },
  "cells": [
    {
      "cell_type": "markdown",
      "metadata": {
        "id": "view-in-github",
        "colab_type": "text"
      },
      "source": [
        "<a href=\"https://colab.research.google.com/github/dhiraj567/WEB_DEV/blob/main/SWLAB3_ASSIGNMENT.ipynb\" target=\"_parent\"><img src=\"https://colab.research.google.com/assets/colab-badge.svg\" alt=\"Open In Colab\"/></a>"
      ]
    },
    {
      "cell_type": "code",
      "execution_count": null,
      "metadata": {
        "id": "yQn9fJ3qaDpS"
      },
      "outputs": [],
      "source": [
        "#Get Directions :\n",
        "\n",
        "import requests\n",
        "\n",
        "def getDirections(api_key, origin, destination):\n",
        "    base_url = \"https://maps.gomaps.pro/maps/api/directions/json\"\n",
        "    params = {\n",
        "        \"origin\": origin,\n",
        "        \"destination\": destination,\n",
        "        \"key\": api_key\n",
        "    }\n",
        "    response = requests.get(base_url, params=params)\n",
        "    if response.status_code == 200:\n",
        "        data = response.json()\n",
        "        if data[\"status\"] == \"OK\":\n",
        "            route = data[\"routes\"][0]\n",
        "            legs = route[\"legs\"][0]\n",
        "            distance = legs[\"distance\"][\"text\"]\n",
        "            duration = legs[\"duration\"][\"text\"]\n",
        "            steps = legs[\"steps\"]\n",
        "            directions = []\n",
        "            for step in steps:\n",
        "                html_instructions = step[\"html_instructions\"]\n",
        "                clean_instructions = html_instructions.replace('<b>', '').replace('</b>', '').replace('<div style=\"font-size:0.9em\">', ' ').replace('</div>', '')\n",
        "                directions.append(clean_instructions)\n",
        "            return distance, duration, directions\n",
        "        else:\n",
        "            print(\"Request failed.\")\n",
        "            return None, None, None\n",
        "    else:\n",
        "        print(\"Failed to make the request.\")\n",
        "        return None, None, None\n",
        "\n",
        "if __name__ == \"__main__\":\n",
        "    api_key = \"AlzaSyL90CgTGCz2AlJXB3rnUEHO4ECRTQvu_Uu\"\n",
        "    origin = \"43F2+7JR, S Ambazari Rd, Ambazari, Nagpur, Maharashtra 440010\"\n",
        "    destination = \"Q45Q+2W5, Station Rd, near super function hall, Badepalle, Telangana 509301\"\n",
        "    distance, duration, directions = getDirections(api_key, origin, destination)\n",
        "    if distance and duration:\n",
        "        print(f\"Total Distance: {distance}\")\n",
        "        print(f\"Total Duration: {duration}\")\n",
        "        print(\"Directions:\")\n",
        "        for step in directions:\n",
        "            print(step)\n"
      ]
    },
    {
      "cell_type": "code",
      "source": [
        "#Get Distance and Duration\n",
        "\n",
        "import requests\n",
        "\n",
        "def getDistDur(api_key, start, end):\n",
        "    base_url = \"https://maps.gomaps.pro/maps/api/distancematrix/json\"\n",
        "    params = {\n",
        "        \"origins\": start,\n",
        "        \"destinations\": end,\n",
        "        \"key\": api_key\n",
        "    }\n",
        "    response = requests.get(base_url, params=params)\n",
        "    if response.status_code == 200:\n",
        "        data = response.json()\n",
        "        if data[\"status\"] == \"OK\":\n",
        "            distance = data[\"rows\"][0][\"elements\"][0][\"distance\"][\"text\"]\n",
        "            duration = data[\"rows\"][0][\"elements\"][0][\"duration\"][\"text\"]\n",
        "            return distance, duration\n",
        "        else:\n",
        "            print(\"Request failed.\")\n",
        "            return None, None\n",
        "    else:\n",
        "        print(\"Failed to make the request.\")\n",
        "        return None, None\n",
        "\n",
        "if __name__ == \"__main__\":\n",
        "    api_key = \"AlzaSyL90CgTGCz2AlJXB3rnUEHO4ECRTQvu_Uu\"\n",
        "    start = \"43F2+7JR, S Ambazari Rd, Ambazari, Nagpur, Maharashtra 440010\"\n",
        "    end = \"Q45Q+2W5, Station Rd, near super function hall, Badepalle, Telangana 509301\"\n",
        "\n",
        "    distance, duration = getDistDur(api_key, start, end)\n",
        "\n",
        "    if distance and duration:\n",
        "        print(f\"Driving Distance: {distance}\")\n",
        "        print(f\"Driving Duration: {duration}\")\n"
      ],
      "metadata": {
        "id": "YzjISHreaTAs"
      },
      "execution_count": null,
      "outputs": []
    },
    {
      "cell_type": "code",
      "source": [
        "# get Elevation\n",
        "\n",
        "import requests\n",
        "\n",
        "def getElevation(api_key, lat, lon):\n",
        "    base_url = \"https://maps.gomaps.pro/maps/api/elevation/json\"\n",
        "    params = {\n",
        "        \"locations\": f\"{lat},{lon}\",\n",
        "        \"key\": api_key\n",
        "    }\n",
        "    response = requests.get(base_url, params=params)\n",
        "    if response.status_code == 200:\n",
        "        data = response.json()\n",
        "        if data[\"status\"] == \"OK\":\n",
        "            elevation = data[\"results\"][0][\"elevation\"]\n",
        "            return elevation\n",
        "        else:\n",
        "            print(\"Request failed.\")\n",
        "            return None\n",
        "    else:\n",
        "        print(\"Failed to make the request.\")\n",
        "        return None\n",
        "\n",
        "if __name__ == \"__main__\":\n",
        "    api_key = \"AlzaSyL90CgTGCz2AlJXB3rnUEHO4ECRTQvu_Uu\"\n",
        "    lat = 16.7619\n",
        "    lon = 78.1381\n",
        "    elevation = getElevation(api_key, lat, lon)\n",
        "    if elevation is not None:\n",
        "        print(f\"Elevation at ({lat}, {lon}): {elevation} meters\")\n"
      ],
      "metadata": {
        "id": "1p9PCC4ZaRB7"
      },
      "execution_count": null,
      "outputs": []
    },
    {
      "cell_type": "code",
      "source": [
        "#get Lat Long\n",
        "\n",
        "import requests\n",
        "\n",
        "def getLatiLongi(api_key, address):\n",
        "    url = 'https://maps.gomaps.pro/maps/api/geocode/json'\n",
        "    params = {\n",
        "        \"address\": address,\n",
        "        \"key\": api_key\n",
        "    }\n",
        "    response = requests.get(url, params=params)\n",
        "    if response.status_code == 200:\n",
        "        data = response.json()\n",
        "        if data[\"status\"] == \"OK\":\n",
        "            location = data[\"results\"][0][\"geometry\"][\"location\"]\n",
        "            lat = location[\"lat\"]\n",
        "            lng = location[\"lng\"]\n",
        "            return lat, lng\n",
        "        else:\n",
        "            print(f\"Error: {data['error_message']}\")\n",
        "            return 0, 0\n",
        "    else:\n",
        "        print(\"Failed to make the request.\")\n",
        "        return 0, 0\n",
        "\n",
        "if __name__ == \"__main__\":\n",
        "    api_key = \"AlzaSyL90CgTGCz2AlJXB3rnUEHO4ECRTQvu_Uu\"\n",
        "    address = \"Q45Q+2W5, Station Rd, near super function hall, Badepalle, Telangana 509301\"\n",
        "    lati, longi = getLatiLongi(api_key, address)\n",
        "    print(f\"Latitude: {lati}\")\n",
        "    print(f\"Longitude: {longi}\")\n"
      ],
      "metadata": {
        "id": "R1DsgD_fadVA"
      },
      "execution_count": null,
      "outputs": []
    }
  ]
}